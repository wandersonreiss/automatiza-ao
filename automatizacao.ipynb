{
 "cells": [
  {
   "cell_type": "code",
   "execution_count": 23,
   "id": "83768936",
   "metadata": {},
   "outputs": [],
   "source": [
    "#!pip install pyperclip\n",
    "#!pip install pyautogui"
   ]
  },
  {
   "cell_type": "code",
   "execution_count": 24,
   "id": "d39ab05a",
   "metadata": {},
   "outputs": [],
   "source": [
    "import pyautogui\n",
    "import pyperclip\n",
    "import time\n"
   ]
  },
  {
   "cell_type": "code",
   "execution_count": 60,
   "id": "02fdf72e",
   "metadata": {},
   "outputs": [],
   "source": [
    "pyautogui.pause=1\n",
    "pyautogui.hotkey(\"ctrl\",\"t\")\n",
    "pyautogui.write(\"https://drive.google.com/drive/folders/149xknr9JvrlEnhNWO49zPcw0PW5icxga\")\n",
    "time.sleep(2)\n",
    "pyautogui.press(\"enter\")\n",
    "time.sleep(7)\n",
    "pyautogui.click(x=297, y=292, clicks=2)\n",
    "time.sleep(2)\n",
    "pyautogui.click(x=636, y=189)\n",
    "time.sleep(2)\n",
    "pyautogui.click(x=674, y=589)\n",
    "time.sleep(20)\n",
    "\n"
   ]
  },
  {
   "cell_type": "code",
   "execution_count": 58,
   "id": "64b88fd0",
   "metadata": {},
   "outputs": [
    {
     "data": {
      "text/plain": [
       "Point(x=674, y=589)"
      ]
     },
     "execution_count": 58,
     "metadata": {},
     "output_type": "execute_result"
    }
   ],
   "source": [
    "time.sleep(5)\n",
    "pyautogui.position()"
   ]
  },
  {
   "cell_type": "code",
   "execution_count": 26,
   "id": "63814a21",
   "metadata": {},
   "outputs": [],
   "source": [
    "#entrar no site da empresa \n",
    "#navegar no site e fazer o download da base de dados\n",
    "#clicar na pasta exportar \n",
    "#importar a base de dados\n",
    "#calcular os indicadores\n",
    "#enviar o email com o relatorio \n"
   ]
  },
  {
   "cell_type": "code",
   "execution_count": null,
   "id": "e043596f",
   "metadata": {},
   "outputs": [],
   "source": []
  }
 ],
 "metadata": {
  "kernelspec": {
   "display_name": "Python 3 (ipykernel)",
   "language": "python",
   "name": "python3"
  },
  "language_info": {
   "codemirror_mode": {
    "name": "ipython",
    "version": 3
   },
   "file_extension": ".py",
   "mimetype": "text/x-python",
   "name": "python",
   "nbconvert_exporter": "python",
   "pygments_lexer": "ipython3",
   "version": "3.9.7"
  }
 },
 "nbformat": 4,
 "nbformat_minor": 5
}
